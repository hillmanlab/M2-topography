version https://git-lfs.github.com/spec/v1
oid sha256:d4ac4cc2954e4bc35b6cf0190c8db3ea074d4eb84d854ca6d94df32f27cc3d8c
size 4014809
