version https://git-lfs.github.com/spec/v1
oid sha256:32ad345c80e31509313a6d7a7960b553e2d7cffd3406c38dc2829f8a4c123e5e
size 680910
