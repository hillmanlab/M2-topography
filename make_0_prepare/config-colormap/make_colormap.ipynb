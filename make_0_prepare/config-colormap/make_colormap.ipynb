version https://git-lfs.github.com/spec/v1
oid sha256:5163caa9bd7dce5326962d34ffecb4d2488ff5ab23122e17be9bfaf3d61e021d
size 34360
