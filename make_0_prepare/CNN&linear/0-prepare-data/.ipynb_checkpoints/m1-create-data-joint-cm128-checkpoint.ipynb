version https://git-lfs.github.com/spec/v1
oid sha256:0fa8adfec02bdc6a59d5b12b9ce1cb45d876337bb41f30ef187b09b31ffebbaa
size 1909647
