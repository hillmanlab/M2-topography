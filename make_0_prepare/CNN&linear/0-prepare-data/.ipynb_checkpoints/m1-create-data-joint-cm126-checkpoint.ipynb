version https://git-lfs.github.com/spec/v1
oid sha256:3eb94f24c8b19d3ae08fb193d9bef987958c070460c8e5412445144d9e195378
size 1453096
