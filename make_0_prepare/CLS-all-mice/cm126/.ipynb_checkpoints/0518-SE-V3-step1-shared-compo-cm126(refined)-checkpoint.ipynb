version https://git-lfs.github.com/spec/v1
oid sha256:69c013c8373d82230d1f9621b09ad2b9dc9e6bb12b26d5d5ad3be0e2ed1d2351
size 2426096
