version https://git-lfs.github.com/spec/v1
oid sha256:e70ce985ba78b4456ba665137b09a38ec39947adc3ca4c8360897f0231ff0dc0
size 2975746
