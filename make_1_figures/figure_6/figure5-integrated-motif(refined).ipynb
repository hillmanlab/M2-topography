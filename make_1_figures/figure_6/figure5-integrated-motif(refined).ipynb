version https://git-lfs.github.com/spec/v1
oid sha256:2d2fb0b9a8eb78344f96f664c0260465d41a40d5e17e8b95647ccaae1727f349
size 1937765
