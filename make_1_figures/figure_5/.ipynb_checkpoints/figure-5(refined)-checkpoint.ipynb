version https://git-lfs.github.com/spec/v1
oid sha256:de28bc7e08040b3a40abab59c304c4c87009a88dd9952ee8427f9b01b586dd4b
size 1145788
