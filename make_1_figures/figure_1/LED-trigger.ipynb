version https://git-lfs.github.com/spec/v1
oid sha256:3ee51feabc4e17ac636871305e826be71ed1a8eafde1208cc880507f5d527d7a
size 614461
