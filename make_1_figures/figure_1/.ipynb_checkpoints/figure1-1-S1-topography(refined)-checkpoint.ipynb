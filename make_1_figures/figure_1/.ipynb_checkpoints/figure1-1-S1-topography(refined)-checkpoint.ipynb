version https://git-lfs.github.com/spec/v1
oid sha256:9fd4fd8e4b6b5e017976571462bd9a456a51207d29d892b6712a12b8d19787ff
size 1368345
