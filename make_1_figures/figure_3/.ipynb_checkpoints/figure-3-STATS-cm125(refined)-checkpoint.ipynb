version https://git-lfs.github.com/spec/v1
oid sha256:bb612f731757d43680470c07f8302cb4492dbb08ad4e4e9d129ebc6f7d0bf01b
size 116007
