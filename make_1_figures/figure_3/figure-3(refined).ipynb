version https://git-lfs.github.com/spec/v1
oid sha256:33e4e43f3f8b5fb29e0afd6ac2c88bbcc6b71f9b848baac8556a968b2bdde0e6
size 1050669
