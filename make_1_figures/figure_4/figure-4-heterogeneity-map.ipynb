version https://git-lfs.github.com/spec/v1
oid sha256:cdd45f9e0556e59265500eb4b3373182ccac5a5f18778fc78b944fc5dd697b1a
size 243992
