version https://git-lfs.github.com/spec/v1
oid sha256:524af10fc11cd12dfb5a434b9fa51c9ffe503eb1678eae4f440e2388560f3eb6
size 1129614
