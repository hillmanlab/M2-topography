version https://git-lfs.github.com/spec/v1
oid sha256:422d7a171cff600b81ee5d9a6ee610a2014cb1d56e32f61409995ab8bea9ae31
size 6488691
