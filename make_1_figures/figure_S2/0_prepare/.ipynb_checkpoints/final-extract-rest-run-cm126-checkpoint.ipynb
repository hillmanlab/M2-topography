version https://git-lfs.github.com/spec/v1
oid sha256:3a80c02d75909358b12bfba537e500ac04c173079544f71a819b56147fa3a5ac
size 10254385
