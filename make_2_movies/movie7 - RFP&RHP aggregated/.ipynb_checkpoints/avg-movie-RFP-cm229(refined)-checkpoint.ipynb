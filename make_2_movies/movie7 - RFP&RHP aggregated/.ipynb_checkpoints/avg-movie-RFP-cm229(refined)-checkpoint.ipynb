version https://git-lfs.github.com/spec/v1
oid sha256:037c528bf0baa7e7b8935016974b1f842434096753fe9ebf594f85b067171c22
size 108930
