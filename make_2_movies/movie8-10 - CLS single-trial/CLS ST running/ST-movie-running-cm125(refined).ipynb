version https://git-lfs.github.com/spec/v1
oid sha256:b8089ec86ef1f98c0cff8918d2b13e5d64d34b83dd97d6150fc839d6e9a25f26
size 423015
